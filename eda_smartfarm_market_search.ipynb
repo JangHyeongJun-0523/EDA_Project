{
 "cells": [
  {
   "cell_type": "markdown",
   "metadata": {},
   "source": [
    "# 본론2: 스마트팜 및 국내 로봇 산업\n",
    "\n",
    "## 1. 국내 스마트팜 현황\n",
    "### 1.1 세계 시장 현황 (참고용)\n",
    "\n",
    "- 세계 스마트농업 시장규모 및 전망(분야별)\n",
    "\n",
    "<p aling=\"center\">\n",
    "    <img src=\"https://www.mafra.go.kr/sites/home/images/a3/03.png\">\n",
    "</p>\n",
    "\n",
    "- 세계 스마트농업 시장은 20년 138억 달러에서 25년 220억 달러로 성장 전망 <br> (연평균 9.8%↑)\n",
    "- 가장 비중이 큰 정밀농업 분야는 20년 64억 달러에서 25년에는 110.7억 달러로 성장 전망 <br> (연평균 11.6%↑)\n",
    "- 스마트온실과 가축모니터링 분야는 상대적으로 비중이 작으며, 각각 20년 12.5억/14억 달러에서 25년에는 18.5억/22.8억 달러로 성장 전망 <br> (연평균 8.2%↑, 10.2%↑)\n",
    "\n",
    "### 1.2 국내 시장 현황\n",
    "\n",
    "- 국내 시장현황\n",
    "\n",
    "<p aling=\"center\">\n",
    "    <img src=\"https://www.mafra.go.kr/sites/home/images/a3/04.png\">\n",
    "</p>\n",
    "\n",
    "- 우리나라의 스마트농업 시장은 ’20년 2.4억 달러에서 ’25년에는 4.9억 달러로 성장 전망 <br> (연평균 15.5%↑)"
   ]
  },
  {
   "cell_type": "markdown",
   "metadata": {},
   "source": [
    "## 2. 활용 예상 자료\n",
    "> 1. [스마트팜 데이터 셋; 스마트팜 관련 시설원예(토마토, 방울토마토, 딸기, 파프리카, 오이, 가지, 참외)](https://data.smartfarmkorea.net/structuredData/dashboard.do?menuId=M06020101)\n",
    ">       - **스마트팜 정형데이터셋**의 **스마트팜 데이터셋현황**에서  2015년~2022년까지의 자료 확인.  \n",
    ">       - **농업 경영체 수 현황** 및 **재배 면적 현황** 제시됨. \n",
    ">       - **스마트팜 정형데이터셋**의 **농촌진흥청**배너에서  2018년~2021년까지의 **농촌진흥청_스마트팜** 현장 농가 데이터 확인. <br> **(년도)_cultInfo.xlsx**파일에 재배정보(품목, 식부면적, 재식밀도) 포함 <br> **(년도)_sale.xlsx**파일에 판매정보(총출하량 및 금액) 포함\n",
    ">           - 재식밀도: 단위면적(1m²)당 심은 작물 수\n",
    "> 2. [스마트팜코리아, (신)기업정보: 21년부터 선정된 농가와 계약 가능한 참여기업](https://www.smartfarmkorea.net/company/companyInfo.do?menuId=M01020210)\n",
    ">       - 하단 우측의 **엑셀 다운로드**에서 \n",
    "**기업정보관리_리스트-(다운로드 날짜).xls** 파일 다운로드 가능. <br> **시설 원예 -> 기업명 -> 취급품(ICT제품): 스마트팜**으로 필터링 후 활용 예상.\n",
    ">       - 단순히 업체명과 항목만 있어 업체별 계약 **부지면적**, 그에 따른 **생산량** 등은 추가 조사가 필요해 보임."
   ]
  },
  {
   "cell_type": "markdown",
   "metadata": {},
   "source": [
    "### 2.0 Import"
   ]
  },
  {
   "cell_type": "code",
   "execution_count": 1,
   "metadata": {},
   "outputs": [
    {
     "name": "stderr",
     "output_type": "stream",
     "text": [
      "/tmp/ipykernel_2842/1673064160.py:18: DeprecationWarning: \n",
      "Pyarrow will become a required dependency of pandas in the next major release of pandas (pandas 3.0),\n",
      "(to allow more performant data types, such as the Arrow string type, and better interoperability with other libraries)\n",
      "but was not found to be installed on your system.\n",
      "If this would cause problems for you,\n",
      "please provide us feedback at https://github.com/pandas-dev/pandas/issues/54466\n",
      "        \n",
      "  import pandas as pd\n"
     ]
    }
   ],
   "source": [
    "from selenium import webdriver\n",
    "from selenium.webdriver.chrome.service import Service\n",
    "from selenium.webdriver.common.by import By\n",
    "from selenium.webdriver.common.keys import Keys\n",
    "from selenium.webdriver.support.wait import WebDriverWait\n",
    "from selenium.webdriver.support import expected_conditions as EC\n",
    "from selenium.webdriver.common.action_chains import ActionChains\n",
    "from selenium.common.exceptions import ElementNotInteractableException\n",
    "from selenium.common.exceptions import NoSuchElementException\n",
    "from selenium.webdriver.support.select import Select\n",
    "import time\n",
    "from tqdm.notebook import tqdm\n",
    "from glob import glob\n",
    "from geopy.geocoders import Nominatim\n",
    "from bs4 import BeautifulSoup\n",
    "from urllib.request import urlopen, Request\n",
    "from user_agent import generate_user_agent\n",
    "import pandas as pd\n",
    "import matplotlib.pyplot as plt\n",
    "import seaborn as sns\n",
    "import koreanize_matplotlib\n",
    "import json\n",
    "import folium\n",
    "import warnings\n",
    "import numpy as np\n",
    "import requests\n",
    "import certifi"
   ]
  },
  {
   "cell_type": "markdown",
   "metadata": {},
   "source": [
    "### 2.1 스마트팜 데이터 셋"
   ]
  },
  {
   "cell_type": "markdown",
   "metadata": {},
   "source": [
    "#### 2.1.1 목표: 기본 정보, 연도별 전국 스마트팜 경영체 수와 전국 재배 면적\n",
    "\n",
    "|정보명|구분|\n",
    "|:---|:---|\n",
    "|경영체 수 (단위:건)|div, class=\"tot_cnt_mng\"|\n",
    "|전국재배면적 (단위:ha)|div, class=\"tot_cnt_area\"|\n",
    "|기준년도 선택칸|select, id=\"searchYear\"|\n",
    "|검색 버튼|li, class=\"search_btn_wrap\"|\n",
    "|연도 선택|XPATH, //*[@id=\"searchYear\"]/option[7]|"
   ]
  },
  {
   "cell_type": "markdown",
   "metadata": {},
   "source": [
    "- selenium, 스마트팜 데이터 마트 접속"
   ]
  },
  {
   "cell_type": "code",
   "execution_count": 2,
   "metadata": {},
   "outputs": [],
   "source": [
    "url = \"https://data.smartfarmkorea.net/structuredData/dashboard.do?menuId=M06020101\"\n",
    "driver = webdriver.Chrome(service=Service(\"../driver/chromedriver\"))\n",
    "driver.get(url)"
   ]
  },
  {
   "cell_type": "markdown",
   "metadata": {},
   "source": [
    "- selenium, 일관된 html 조건 맞추기 위해 창 크기 최대화."
   ]
  },
  {
   "cell_type": "code",
   "execution_count": 3,
   "metadata": {},
   "outputs": [],
   "source": [
    "driver.maximize_window()"
   ]
  },
  {
   "cell_type": "markdown",
   "metadata": {},
   "source": [
    "- BeautifulSoup, HTML 가져오기"
   ]
  },
  {
   "cell_type": "code",
   "execution_count": 4,
   "metadata": {},
   "outputs": [],
   "source": [
    "# 웹페이지에 접속하여 HTML 가져오기\n",
    "html = driver.page_source\n",
    "response = requests.get(\"https://google.com\", verify=certifi.where())\n",
    "soup = BeautifulSoup(html, 'html.parser')"
   ]
  },
  {
   "cell_type": "markdown",
   "metadata": {},
   "source": [
    "##### Error log\n",
    "SSLError: HTTPSConnectionPool(host='google.com', port=443): Max retries exceeded\n",
    "[해결](https://www.codeit.kr/community/questions/UXVlc3Rpb246NjQ1OTk0OTRlMGY4Y2Q3MGY0MDZjOTQ2)"
   ]
  },
  {
   "cell_type": "code",
   "execution_count": 5,
   "metadata": {},
   "outputs": [],
   "source": [
    "html = driver.page_source\n",
    "response = requests.get(\"https://google.com\")\n",
    "soup = BeautifulSoup(html, 'html.parser')"
   ]
  },
  {
   "cell_type": "markdown",
   "metadata": {},
   "source": [
    "- 전국 경영체수 값 가져오기; div, class=\"tot_cnt_mng\""
   ]
  },
  {
   "cell_type": "code",
   "execution_count": 6,
   "metadata": {},
   "outputs": [
    {
     "name": "stdout",
     "output_type": "stream",
     "text": [
      "92 건\n"
     ]
    }
   ],
   "source": [
    "number_management_organization = soup.find('div', class_='tot_cnt_mng').get_text(strip=True)\n",
    "print(number_management_organization, '건')"
   ]
  },
  {
   "cell_type": "markdown",
   "metadata": {},
   "source": [
    "- 전국 재배 면적 값 가져오기; div, class=\"tot_cnt_area\""
   ]
  },
  {
   "cell_type": "code",
   "execution_count": 7,
   "metadata": {},
   "outputs": [
    {
     "name": "stdout",
     "output_type": "stream",
     "text": [
      "452.00 ha\n"
     ]
    }
   ],
   "source": [
    "number_management_organization = soup.find('div', class_='tot_cnt_area').get_text(strip=True)\n",
    "print(number_management_organization,'ha')"
   ]
  },
  {
   "cell_type": "markdown",
   "metadata": {},
   "source": [
    "- 연도 선택 칸 클릭; select, id=\"searchYear\""
   ]
  },
  {
   "cell_type": "code",
   "execution_count": 25,
   "metadata": {},
   "outputs": [],
   "source": [
    "searchYear = driver.find_element(By.ID, \"searchYear\")\n",
    "searchYear.click()"
   ]
  },
  {
   "cell_type": "markdown",
   "metadata": {},
   "source": [
    "- 연도 선택; XPATH, //*[@id=\"searchYear\"]/option[1~8]"
   ]
  },
  {
   "cell_type": "code",
   "execution_count": 26,
   "metadata": {},
   "outputs": [],
   "source": [
    "searchYear = driver.find_element(By.XPATH, '//*[@id=\"searchYear\"]/option[1]')\n",
    "searchYear.click()"
   ]
  },
  {
   "cell_type": "markdown",
   "metadata": {},
   "source": [
    "- 연도 검색 단추 클릭; class=\"search_btn_wrap\""
   ]
  },
  {
   "cell_type": "code",
   "execution_count": 27,
   "metadata": {},
   "outputs": [],
   "source": [
    "searchYear = driver.find_element(By.CLASS_NAME, \"search_btn_wrap\")\n",
    "searchYear.click()"
   ]
  },
  {
   "cell_type": "markdown",
   "metadata": {},
   "source": [
    "- 연도별 전국 경영체 수 및 재배면적"
   ]
  },
  {
   "cell_type": "code",
   "execution_count": 42,
   "metadata": {},
   "outputs": [],
   "source": [
    "url = \"https://data.smartfarmkorea.net/structuredData/dashboard.do?menuId=M06020101\"\n",
    "driver = webdriver.Chrome(service=Service(\"../driver/chromedriver\"))\n",
    "driver.get(url)\n",
    "\n",
    "driver.maximize_window()\n",
    "\n",
    "option_index = 1\n",
    "input_data = []\n",
    "\n",
    "while True:\n",
    "    try:\n",
    "        searchYear = driver.find_element(By.ID, \"searchYear\")\n",
    "        searchYear.click()\n",
    "        \n",
    "        option_xpath = f'//*[@id=\"searchYear\"]/option[{option_index}]'\n",
    "        searchYear_option = driver.find_element(By.XPATH, option_xpath)\n",
    "        searchYear_option.click()\n",
    "        \n",
    "        search_btn = driver.find_element(By.CLASS_NAME, \"search_btn_wrap\")\n",
    "        search_btn.click()\n",
    "        \n",
    "        # 웹페이지에 접속하여 HTML 가져오기\n",
    "        html = driver.page_source\n",
    "        response = requests.get(\"https://google.com\", verify=certifi.where())\n",
    "        soup = BeautifulSoup(html, 'html.parser')\n",
    "        \n",
    "        # 필요한 정보 추출\n",
    "        selected_year = searchYear_option.get_attribute('value')\n",
    "        number_management_organization_mng = soup.find('div', class_='tot_cnt_mng').get_text(strip=True)\n",
    "        number_management_organization_area = soup.find('div', class_='tot_cnt_area').get_text(strip=True)\n",
    "        \n",
    "        # 데이터를 input_data에 추가\n",
    "        input_data.append({'연도': selected_year, '전국 경영체 수 (단위 : 건)': number_management_organization_mng, '전국 재배 면적 (단위 : ha)': number_management_organization_area})\n",
    "        \n",
    "        option_index += 1\n",
    "        \n",
    "    except NoSuchElementException:\n",
    "        # NoSuchElementException이 발생하면 루프 종료\n",
    "        break\n",
    "\n",
    "# 웹 드라이버 종료\n",
    "driver.quit()\n",
    "\n",
    "# DataFrame 생성\n",
    "df_total_smartfarm = pd.DataFrame(input_data)"
   ]
  },
  {
   "cell_type": "code",
   "execution_count": 51,
   "metadata": {},
   "outputs": [],
   "source": [
    "# 데이터 형 변환\n",
    "df_total_smartfarm['전국 경영체 수 (단위 : 건)'] = df_total_smartfarm['전국 경영체 수 (단위 : 건)'].astype(int)\n",
    "df_total_smartfarm['전국 재배 면적 (단위 : ha)'] = df_total_smartfarm['전국 재배 면적 (단위 : ha)'].astype(float)"
   ]
  },
  {
   "cell_type": "code",
   "execution_count": 52,
   "metadata": {},
   "outputs": [
    {
     "name": "stdout",
     "output_type": "stream",
     "text": [
      "     연도  전국 경영체 수 (단위 : 건)  전국 재배 면적 (단위 : ha)\n",
      "0  2015                  3                21.0\n",
      "1  2016                 17                 7.0\n",
      "2  2017                 20                 0.0\n",
      "3  2018                 34                 2.0\n",
      "4  2019                 62               308.0\n",
      "5  2020                152               683.0\n",
      "6  2021                190               952.0\n",
      "7  2022                 92               452.0\n"
     ]
    }
   ],
   "source": [
    "# Print or further process the DataFrame\n",
    "print(df_total_smartfarm)"
   ]
  },
  {
   "cell_type": "markdown",
   "metadata": {},
   "source": [
    "- 위 데이터 프레임을 보면 2017년에 재배 면적 결측치(0헥타르) 존재 -> 원인 파악 필요\n",
    "- 예상원인  \n",
    "        1. 해당 사이트에서 결측치를 플롯함  \n",
    "        2. 실재로 계약 농가를 찾지 못하여 스마트팜에 해당하는 재배 면적이 없었음"
   ]
  },
  {
   "cell_type": "markdown",
   "metadata": {},
   "source": [
    "- 시각화"
   ]
  },
  {
   "cell_type": "code",
   "execution_count": 53,
   "metadata": {},
   "outputs": [
    {
     "data": {
      "image/png": "[encoded data removed]",
      "text/plain": [
       "<Figure size 1000x600 with 2 Axes>"
      ]
     },
     "metadata": {},
     "output_type": "display_data"
    }
   ],
   "source": [
    "# 그래프 그리기\n",
    "plt.figure(figsize=(10, 6))\n",
    "\n",
    "# 경영체 수 그래프\n",
    "plt.subplot(1, 2, 1)\n",
    "plt.bar(df_total_smartfarm['연도'], df_total_smartfarm['전국 경영체 수 (단위 : 건)'], color='skyblue')\n",
    "plt.title('연도별 전국 경영체 수')\n",
    "plt.xlabel('연도')\n",
    "plt.ylabel('전국 경영체 수 (단위 : 건)')\n",
    "\n",
    "# 재배 면적 그래프\n",
    "plt.subplot(1, 2, 2)\n",
    "plt.bar(df_total_smartfarm['연도'], df_total_smartfarm['전국 재배 면적 (단위 : ha)'], color='lightgreen')\n",
    "plt.title('연도별 전국 재배 면적')\n",
    "plt.xlabel('연도')\n",
    "plt.ylabel('전국 재배 면적 (단위 : ha)')\n",
    "\n",
    "plt.tight_layout()\n",
    "plt.show()"
   ]
  },
  {
   "cell_type": "markdown",
   "metadata": {},
   "source": [
    "- 21년부터 선정된 사업 대상 농가와 계약이 가능한 참여기업"
   ]
  },
  {
   "cell_type": "code",
   "execution_count": 54,
   "metadata": {},
   "outputs": [],
   "source": [
    "raw_company_df = pd.read_excel('../data/smartfarm_company_list.xls')"
   ]
  },
  {
   "cell_type": "code",
   "execution_count": 55,
   "metadata": {},
   "outputs": [
    {
     "name": "stdout",
     "output_type": "stream",
     "text": [
      "          분야  기업유형                            유통형태          기업명  \\\n",
      "0    시설원예,축산  면허기업                       정보통신공사 전문  휴테크엘이디 유한회사   \n",
      "1    시설원예,축산  면허기업         제조(도매),제조(소매),정보통신공사 전문          휴미템   \n",
      "2       시설원예  일반기업  수입(제조·도매),수입(소매),국내(도매),국내(소매)      화신농건(주)   \n",
      "3    시설원예,축산  면허기업                          제조(도매)        한화테크윈   \n",
      "4    시설원예,축산  면허기업                       정보통신공사 전문    한진전자통신(주)   \n",
      "..       ...   ...                             ...          ...   \n",
      "631  시설원예,축산  면허기업                       정보통신공사 전문   (유)동아미디어정보   \n",
      "632     시설원예  면허기업                          제조(소매)    (유)금화이엔에스   \n",
      "633     시설원예  일반기업                          국내(소매)     (유) 태웅건설   \n",
      "634     시설원예  일반기업                   제조(도매),국내(도매)     ( 주)시지아이   \n",
      "635  시설원예,축산  면허기업                       정보통신공사 전문      엔퓨쳐주식회사   \n",
      "\n",
      "                         소재지                          취급품           연락처  \n",
      "0         광주광역시 북구 첨단과기로 333                     정보통신공사전문  6.297288e+08  \n",
      "1           경상북도 상주시 서곡1길 21                   환경관리기, 환기팬  5.453520e+08  \n",
      "2           경기도 남양주시 경춘로 368           스마트팜, 환경제어기, 양액기 등  3.156903e+08  \n",
      "3     경기도 성남시 분당구 판교로319번길 6  CCTV CAMERA, NVR, DVR, SW 등  7.071479e+09  \n",
      "4    경상남도 진주시 진양호로145번길 25-7                       정보통신공사  5.574791e+08  \n",
      "..                       ...                          ...           ...  \n",
      "631     전라남도 화순군 동면 동농공길 149                    정보통신공사 전문  6.137204e+08  \n",
      "632    전라남도 담양군 대전면 응기길 34-9                  온실용 복합환경제어기  6.138135e+08  \n",
      "633    전라북도 익산시 금마면 지아골1길 94                      환경제어복합기  6.383489e+08  \n",
      "634    전라남도 장성군 남면 나노산단로 102                        환경제어기  6.257681e+08  \n",
      "635          전라북도 정읍시 초산로 93                     정보통신공사전문  6.353148e+08  \n",
      "\n",
      "[636 rows x 7 columns]\n"
     ]
    }
   ],
   "source": [
    "print(raw_company_df)"
   ]
  },
  {
   "cell_type": "markdown",
   "metadata": {},
   "source": [
    "- 스마트팜 취급 기업으로 데이터 프레임 생성"
   ]
  },
  {
   "cell_type": "code",
   "execution_count": 56,
   "metadata": {},
   "outputs": [
    {
     "name": "stdout",
     "output_type": "stream",
     "text": [
      "          분야  기업유형                                          유통형태          기업명  \\\n",
      "2       시설원예  일반기업                수입(제조·도매),수입(소매),국내(도매),국내(소매)      화신농건(주)   \n",
      "5       시설원예  일반기업                                 국내(도매),국내(소매)         한울테크   \n",
      "6       시설원예  일반기업                                 국내(도매),국내(소매)        한울에스씨   \n",
      "9       시설원예  일반기업                                 국내(도매),국내(소매)        한라자동화   \n",
      "13      시설원예  일반기업                                 국내(도매),국내(소매)        한국농부들   \n",
      "..       ...   ...                                           ...          ...   \n",
      "604     시설원예  면허기업         제조(도매),제조(소매),국내(도매),국내(소매),정보통신공사 전문    (주)다온정보기술   \n",
      "606     시설원예  일반기업                                        제조(도매)     (주)농정사이버   \n",
      "607  시설원예,축산  일반기업  제조(도매),제조(소매),수입(제조·도매),수입(소매),국내(도매),국내(소매)    (주)농자재플러스   \n",
      "614     시설원예  일반기업                                 제조(도매),제조(소매)  (주)글로벌코딩연구소   \n",
      "630  시설원예,축산  일반기업                                 제조(도매),제조(소매)     (유)린캔패스트   \n",
      "\n",
      "                             소재지  \\\n",
      "2               경기도 남양주시 경춘로 368   \n",
      "5       경상북도 경주시 강동면 오금큰길 141-42   \n",
      "6           경상북도 안동시 풍산읍 신양로 421   \n",
      "9      제주특별자치도 서귀포시 대정읍 추사로 11-6   \n",
      "13   충청북도 청주시 흥덕구 옥산면 덕촌미평길 6-11   \n",
      "..                           ...   \n",
      "604         전라북도 전주시 덕진구 반룡로 109   \n",
      "606         서울특별시 금천구 가산디지털2로 98   \n",
      "607             전라북도 익산시 만석길 321   \n",
      "614    경상남도 창원시 마산합포구 3·15대로 298   \n",
      "630         전라남도 장성군 장성읍 영천로 212   \n",
      "\n",
      "                                                   취급품          연락처  \n",
      "2                                   스마트팜, 환경제어기, 양액기 등  315690330.0  \n",
      "5    스마트팜온실 컨설팅및설계시공 보일러양액 무인방제 시스템제작시공 농기구농자재정수기 스...  547622017.0  \n",
      "6    스마트팜온실시공 난방설비제작시공 양액설비,무인방제시스템제작시공 농기구농자재 스마트팜...  548422023.0  \n",
      "9                                       썬넷스마트팜,제이왓스마트팜  647920433.0  \n",
      "13                                  스마트팜, 스마트 양액기, 관비기  432721217.0  \n",
      "..                                                 ...          ...  \n",
      "604                            스마트팜통합제어기 및 센서보드, 운영S/W  632768807.0  \n",
      "606        스마트팜/양액재배시스템/빅데이터구축/통합관제시스템/저장고/농산물저장생리장해예측  220267588.0  \n",
      "607                                       ICT스마트팜제어시스템  638589914.0  \n",
      "614  1. 스마트팜 복합환경 제어 솔루션 2. 맞춤형 스마트팜 통합환경 PCB  3. 사...  552441007.0  \n",
      "630     복합환경제어기,컨트롤판넬,데이터베이스구축,스마트팜S/W,센서,cctv,녹화기,양액기  613951118.0  \n",
      "\n",
      "[85 rows x 7 columns]\n"
     ]
    }
   ],
   "source": [
    "smartfarm_company_df = raw_company_df[raw_company_df['취급품'].str.contains('스마트팜')]\n",
    "\n",
    "print(smartfarm_company_df)"
   ]
  },
  {
   "cell_type": "markdown",
   "metadata": {},
   "source": [
    "### 레퍼런스\n",
    "- [블로그: 국내 및 해외 스마트팜 기업들 현황 분석 자료(2021.10.25)](https://dudonvan.tistory.com/entry/%EA%B5%AD%EB%82%B4-%EB%B0%8F-%ED%95%B4%EC%99%B8-%EC%8A%A4%EB%A7%88%ED%8A%B8%ED%8C%9C-%EA%B8%B0%EC%97%85%EB%93%A4-%ED%98%84%ED%99%A9-%EB%B6%84%EC%84%9D-%EC%9E%90%EB%A3%8C)\n",
    "    - World Agricultural Equipment; **2015:3조 6천억** -> **2020:5조 4천억**, **14.5% 성장 전망**\n",
    "    - 국내 스마트팜 상장기업 현황 소개\n",
    "    - 국내 스마트팜 스타트업 현황 소개\n",
    "\n",
    "- [블로그: 저작자:NgoMIV, [Market Essay] Ch1. 스마트팜 시장 현황 (2023.03.24)](https://blog.naver.com/PostView.naver?blogId=sdfg511&logNo=223054678862&parentCategoryNo=&categoryNo=87&viewDate=&isShowPopularPosts=true&from=search)\n",
    "    - Marketsandmarkets(2023); 세계 스마트 농업 시장(Smart Agriculture Market)은 <br> **2023년 162억 달러**에서 **2028년 254억 달러**까지 성장할 것으로 전망. <br> 따라서 CAGR(연평균 복합 성장률 ; 매년 일정한 성장을 가정하고 계산한 평균 성장률)은 7.2%로 추정\n",
    "    - 국내 시장도 연도별 시장 규모 예측치를 그래프화\n",
    "    - 연간 자산, 매출액, 당기순이익 정보를 직접 취합하여 스마트팜 관련 기업들을 목록화 <br> [출처 : DART 전자공시, 재가공 / 단위 : 백만 원]\n",
    "    - 스마트팜 보급 현황 시각화 <br> [출처: 2021년 농림축산식품부의 정책홍보자료]\n",
    "    - K-스마트팜 수출 경쟁력 <br> 양적 요소(수량, yield), 질적 요소(영양, 수확후관리, 병해충 방제 등), 마케팅(수출, 유통, 기업화 등) 비교 <br>\n",
    "    [출처: 스마트팜수출연구사업단 :  「지능형 스마트팜 플랫폼 수출연구사업단 동향보고서」(2021)]\n",
    "\n",
    "- [농림축산식품부 정책홍보, 스마트농업 국내·외 시장 현황 (Marketsandmarkets, 2020)](https://www.mafra.go.kr/home/5281/subview.do)\n",
    "- [Smart Agriculture Market Size, Marketandmarkets(2023), (자료요청 후 대기 중)](https://www.googleadservices.com/pagead/aclk?sa=L&ai=DChcSEwjfqfbjsYSFAxWr5RYFHcy-BkwYABACGgJ0bA&ase=2&gclid=CjwKCAjwkuqvBhAQEiwA65XxQApZ_RjLxlsKfdKuglz_WTrnIjGGbDxEya5YC0c6ce9LFxKMIAxGRBoCO-oQAvD_BwE&ohost=www.google.com&cid=CAESV-D2m98FNxf8DzUmoPCg73k0Wz03Y7AafJufKSKJW0Daqi6VplJy0sYjsDEnbVRaH4HZymRXZGbX00Vwd4V4HS7MJhb2WKIgwJTBRCuu_TcK_UFeUvt9Fg&sig=AOD64_0TGHRKht0vbqhTBFVzepfWoR0shw&q&nis=4&adurl&ved=2ahUKEwiPiu3jsYSFAxUQjVYBHQVJDw8Q0Qx6BAgGEAE)"
   ]
  },
  {
   "cell_type": "markdown",
   "metadata": {},
   "source": [
    "~~2. 국내 로봇 산업~~\n",
    "\n",
    "~~사업체 수 변화 추이~~\n",
    "\n",
    "~~로봇산업 생산 현황~~\n",
    "\n",
    "회의(2024.03.20, 17:30~18:20 결과, EDA 프로젝트 흐름 상 관련 없다고 판단.)"
   ]
  }
 ],
 "metadata": {
  "kernelspec": {
   "display_name": "eda_venv",
   "language": "python",
   "name": "python3"
  },
  "language_info": {
   "codemirror_mode": {
    "name": "ipython",
    "version": 3
   },
   "file_extension": ".py",
   "mimetype": "text/x-python",
   "name": "python",
   "nbconvert_exporter": "python",
   "pygments_lexer": "ipython3",
   "version": "3.10.12"
  }
 },
 "nbformat": 4,
 "nbformat_minor": 2
}

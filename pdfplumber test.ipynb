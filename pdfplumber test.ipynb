{
 "cells": [
  {
   "cell_type": "code",
   "execution_count": 1,
   "metadata": {},
   "outputs": [
    {
     "name": "stderr",
     "output_type": "stream",
     "text": [
      "/tmp/ipykernel_11709/3904033354.py:2: DeprecationWarning: \n",
      "Pyarrow will become a required dependency of pandas in the next major release of pandas (pandas 3.0),\n",
      "(to allow more performant data types, such as the Arrow string type, and better interoperability with other libraries)\n",
      "but was not found to be installed on your system.\n",
      "If this would cause problems for you,\n",
      "please provide us feedback at https://github.com/pandas-dev/pandas/issues/54466\n",
      "        \n",
      "  import pandas as pd\n"
     ]
    }
   ],
   "source": [
    "import pdfplumber\n",
    "import pandas as pd"
   ]
  },
  {
   "cell_type": "code",
   "execution_count": 7,
   "metadata": {},
   "outputs": [],
   "source": [
    "pdf = pdfplumber.open('../data/SmartFarm_reserch_2022.pdf')\n",
    "page = pdf.pages[120]\n",
    "table1 = page.extract_tables()"
   ]
  },
  {
   "cell_type": "code",
   "execution_count": 3,
   "metadata": {},
   "outputs": [],
   "source": [
    "# 데이터프레임 생성\n",
    "df1 = pd.DataFrame(table1[2:], columns=table1[0])\n",
    "\n",
    "# 인덱스 초기화\n",
    "df1.reset_index(drop=True, inplace=True)"
   ]
  },
  {
   "cell_type": "code",
   "execution_count": 4,
   "metadata": {},
   "outputs": [],
   "source": [
    "df1.to_excel('../data/SmartFarm_reserch1.xlsm')"
   ]
  },
  {
   "cell_type": "code",
   "execution_count": 5,
   "metadata": {},
   "outputs": [],
   "source": [
    "pdf = pdfplumber.open('../data/SmartFarm_reserch_2022.pdf')\n",
    "page = pdf.pages[121]\n",
    "table2 = page.extract_tables()"
   ]
  },
  {
   "cell_type": "code",
   "execution_count": 6,
   "metadata": {},
   "outputs": [],
   "source": [
    "# 데이터프레임 생성\n",
    "df2 = pd.DataFrame(table2[2:], columns=table1[0])\n",
    "\n",
    "# 인덱스 초기화\n",
    "df2.reset_index(drop=True, inplace=True)"
   ]
  },
  {
   "cell_type": "code",
   "execution_count": 8,
   "metadata": {},
   "outputs": [],
   "source": [
    "df2.to_excel('../data/SmartFarm_reserch1.xlsm')"
   ]
  },
  {
   "cell_type": "markdown",
   "metadata": {},
   "source": [
    "[[['구 분', None, None, None, '단위', '1년차 (n=25)', None, None, '2년차 (n=91)', None, None, '3년차 이상 (n=51)', None, None], [None, None, None, None, None, '2020년 작기_\\n도입전(A)', '2021년 작기_\\n도입후(B)', '증가율\\n(B/A)', '2020년 작기(A)', '2021년 작기(B)', '증가율\\n(B/A)', '2020년 작기(A)', '2021년 작기(B)', '증가율\\n(B/A)'], ['영농\\n효율성', '생산성', '단위면적당 생산량', None, 'kg/3.3㎡', '7.35', '7.36', '0.23%', '14.51', '15.04', '3.62%', '8.74', '9.75', None], [None, None, '', '재배면적', '3.3㎡/호', '3,636.00\\n26,708.00', '3,856.00\\n28,388.80', '6.05%\\n6.29%', '4,815.38\\n69,887.60', '4,831.87\\n72,665.92', '0.34%\\n3.98%', '3,176.33\\n27,774.51', '3,187.12\\n31,088.24', None], [None, None, None, '생산량', 'kg/호', None, None, None, None, None, None, None, None, None], [None, None, '단위면적당 출하량', None, 'kg/3.3㎡', '6.64', '6.60', '-0.63%', '12.56', '13.06', '4.00%', '7.50', '9.56', None], [None, None, '', '재배면적', '3.3㎡/호', '3,636.00\\n24,153.00', '3,856.00\\n25,452.20', '6.05%\\n5.38%', '4,815.38\\n60,469.22', '4,831.87\\n63,104.51', '0.34%\\n4.36%', '3,176.33\\n23,818.82', '3,187.12\\n30,463.14', None], [None, None, None, '출하량', 'kg/호', None, None, None, None, None, None, None, None, None], [None, None, '투입노동 단위당 생산량', None, 'kg/인', '12,764.84', '13,555.24', '6.19%', '25,328.94', '26,909.63', '6.24%', '9,794.35', '10,911.25', None], [None, None, '', '투입인력 수', '인/호', '2.09\\n26,708.00', '2.09\\n28,388.80', '0.10%\\n6.29%', '2.76\\n69,887.60', '2.70\\n72,665.92', '-2.13%\\n3.98%', '2.84\\n27,774.51', '2.85\\n31,088.24', None], [None, None, None, '생산량', 'kg/호', None, None, None, None, None, None, None, None, None], [None, '노동력\\n절감', '단위면적당 자가노동시간', None, '시간/3.3㎡', '0.4717', '0.3961', '-16.03%', '0.3144', '0.2924', '-7.00%', '0.5633', '0.5153', None], [None, None, '', '재배면적', '3.3㎡/호', '3,636.00\\n1,715.20', '3,856.00\\n1,527.40', '6.05%\\n-10.95%', '4,815.38\\n1,513.89', '4,831.87\\n1,412.68', '0.34%\\n-6.69%', '3,176.33\\n1,789.12', '3,187.12\\n1,642.35', None], [None, None, None, '자가노동시간', '시간/년', None, None, None, None, None, None, None, None, None], [None, None, '단위면적당 육체노동시간', None, '시간/3.3㎡', '0.3885', '0.3253', '-16.28%', '0.2610', '0.2416', '-7.42%', '0.4654', '0.4259', None], [None, None, '', '재배면적', '3.3㎡/호', '3,636.00\\n1,412.60', '3,856.00\\n1,254.20', '6.05%\\n-11.21%', '4,815.38\\n1,256.79', '4,831.87\\n1,167.51', '0.34%\\n-7.10%', '3,176.33\\n1,478.24', '3,187.12\\n1,357.25', None], [None, None, None, '육체노동시간', '시간/년', None, None, None, None, None, None, None, None, None], [None, None, '단위면적당 의사결정시간', None, '시간/3.3㎡', '0.0832', '0.0709', '-14.87%', '0.0534', '0.0507', '-4.96%', '0.0979', '0.0895', None], [None, None, '', '재배면적', '3.3㎡/호', '3,636.00\\n302.60', '3,856.00\\n273.20', '6.05%\\n-9.72%', '4,815.38\\n257.10', '4,831.87\\n245.18', '0.34%\\n-4.64%', '3,176.33\\n310.88', '3,187.12\\n285.10', None], [None, None, None, '의사결정시간', '시간/년', None, None, None, None, None, None, None, None, None], [None, '품질\\n향상', '단위면적당 고품질 생산량', None, 'kg/3.3㎡', '3.36', '3.77', '12.07%', '6.68', '7.48', '11.98%', '2.97', '4.62', None], [None, None, '', '재배면적', '3.3㎡/호', '3,636.00\\n12,215.75', '3,856.00\\n14,518.63', '6.05%\\n18.85%', '4,815.38\\n32,170.17', '4,831.87\\n36,148.60', '0.34%\\n12.37%', '3,176.33\\n9,438.04', '3,187.12\\n14,718.08', None], [None, None, None, '고품질 생산량(특품)', 'kg/호', None, None, None, None, None, None, None, None, None], [None, None, '단위면적당 비품발생량', None, 'kg/3.3㎡', '6.64', '6.53', '-1.76%', '12.88', '13.32', '3.38%', '7.59', '8.72', None], [None, None, '', '재배면적', '3.3㎡/호', '3,636.00\\n24,155.00', '3,856.00\\n25,164.60', '6.05%\\n4.18%', '4,815.38\\n62,028.11', '4,831.87\\n64,346.10', '0.34%\\n3.74%', '3,176.33\\n24,104.71', '3,187.12\\n27,799.02', None], [None, None, None, '비품발생량', 'kg/호', None, None, None, None, None, None, None, None, None]]]"
   ]
  }
 ],
 "metadata": {
  "kernelspec": {
   "display_name": "eda_venv",
   "language": "python",
   "name": "python3"
  },
  "language_info": {
   "codemirror_mode": {
    "name": "ipython",
    "version": 3
   },
   "file_extension": ".py",
   "mimetype": "text/x-python",
   "name": "python",
   "nbconvert_exporter": "python",
   "pygments_lexer": "ipython3",
   "version": "3.10.12"
  }
 },
 "nbformat": 4,
 "nbformat_minor": 2
}
